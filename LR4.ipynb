{
 "cells": [
  {
   "cell_type": "markdown",
   "metadata": {},
   "source": [
    "<h3>отчёт по лабораторной работе №4</h3>\n",
    "<pre><b>Выполнил:</b> студент групы РТ5-71 Саврасов П.А.</pre>\n",
    "В качестве задачи для решения генетическим алгоримом возьмём задачу поиска потимального пути между точками A и H в множестве из 8 точек. Из каждой точки возможно достичь другую точку. Точка старта - точка A, конечная точка - точка H. при этом необъходимо посетить все точки, цены перемещений между точками задаются в виде матрицы 8 на 8. Сумарная цена перемещения должна быть минимальной."
   ]
  },
  {
   "cell_type": "code",
   "execution_count": 12,
   "metadata": {},
   "outputs": [
    {
     "data": {
      "text/plain": [
       "[[1000, 24, 38, 22, 4, 4, 24, 21],\n",
       " [24, 1000, 30, 30, 27, 9, 6, 11],\n",
       " [38, 30, 1000, 2, 12, 33, 3, 27],\n",
       " [22, 30, 2, 1000, 20, 12, 1, 17],\n",
       " [4, 27, 12, 20, 1000, 7, 16, 30],\n",
       " [4, 9, 33, 12, 7, 1000, 40, 1],\n",
       " [24, 6, 3, 1, 16, 40, 1000, 30],\n",
       " [21, 11, 27, 17, 30, 1, 30, 1000]]"
      ]
     },
     "execution_count": 12,
     "metadata": {},
     "output_type": "execute_result"
    }
   ],
   "source": [
    "import random\n",
    "from itertools import permutations\n",
    "paths = []\n",
    "for i in range(0,8):\n",
    "    paths_arr = []\n",
    "    for j in range(0,8):\n",
    "        if i == j:\n",
    "            paths_arr.append(1000)\n",
    "        elif i > j:\n",
    "            paths_arr.append(paths[j][i])\n",
    "        else:\n",
    "            paths_arr.append(random.randint(1,40))\n",
    "    paths.append(paths_arr)\n",
    "paths = [[1000, 24, 38, 22, 4, 4, 24, 21],\n",
    " [24, 1000, 30, 30, 27, 9, 6, 11],\n",
    " [38, 30, 1000, 2, 12, 33, 3, 27],\n",
    " [22, 30, 2, 1000, 20, 12, 1, 17],\n",
    " [4, 27, 12, 20, 1000, 7, 16, 30],\n",
    " [4, 9, 33, 12, 7, 1000, 40, 1],\n",
    " [24, 6, 3, 1, 16, 40, 1000, 30],\n",
    " [21, 11, 27, 17, 30, 1, 30, 1000]]\n",
    "paths"
   ]
  },
  {
   "cell_type": "markdown",
   "metadata": {},
   "source": [
    "Полученная матрица отображает стоимость перемещений между точками. В качестве ответов от алогоритма будет строка из пунктов назначения в порядке посещения. Пример ответа: ABCDEFGH. Всего возможных комбинаций будет 6! = 720 (от 6 так как начальный и конечный пункты фиксированые). В качестве первой группы особей сделаем 240 вариантов методом случайной генерации."
   ]
  },
  {
   "cell_type": "code",
   "execution_count": 2,
   "metadata": {},
   "outputs": [],
   "source": [
    "def pathBuild(prefix):\n",
    "    out_str = prefix\n",
    "    for i in range(0, 7 - len(prefix)):\n",
    "        while True:\n",
    "            char = chr((random.randint(66,71)))\n",
    "            if not(char in out_str):\n",
    "                out_str += char\n",
    "                break\n",
    "    return(out_str+'H')\n",
    "\n",
    "def costCount(path):\n",
    "    sum_cost = 0\n",
    "    for i in range(len(path)-1):\n",
    "        position = ord(path[i])-65\n",
    "        destination = ord(path[i+1])-65\n",
    "        sum_cost += paths[position][destination]\n",
    "    return sum_cost\n",
    "\n",
    "def populationGen(number, prefix='A'):\n",
    "    path_vars = []\n",
    "    path_costs = []\n",
    "    for i in range(number):\n",
    "        while True:\n",
    "            path = pathBuild(prefix)\n",
    "            if not(path in path_vars):\n",
    "                path_vars.append(path)\n",
    "                path_costs.append(costCount(path))\n",
    "                break\n",
    "    return path_vars, path_costs\n",
    "\n",
    "def populationRepr(path_vars):\n",
    "    for path in path_vars:\n",
    "        print(path, costCount(path))\n",
    "        \n",
    "def best6Repr(path_vars, path_costs):\n",
    "    best_paths = []\n",
    "    for i in range(6):\n",
    "        best_paths.append(path_vars[path_costs.index(min(path_costs))])\n",
    "        path_costs[path_costs.index(min(path_costs))] = 10000\n",
    "    for path in best_paths:\n",
    "        print(path, costCount(path))\n",
    "    return best_paths"
   ]
  },
  {
   "cell_type": "code",
   "execution_count": 7,
   "metadata": {},
   "outputs": [],
   "source": [
    "paths_v1, costs_v1 = populationGen(240)"
   ]
  },
  {
   "cell_type": "markdown",
   "metadata": {},
   "source": [
    "Получена первая популяция, рассмотрим результаты, полученные в ней"
   ]
  },
  {
   "cell_type": "code",
   "execution_count": 8,
   "metadata": {
    "scrolled": false
   },
   "outputs": [
    {
     "name": "stdout",
     "output_type": "stream",
     "text": [
      "ADGCFEBH 104\n",
      "ACEFGDBH 139\n",
      "AGECBDFH 125\n",
      "AEGFDBCH 159\n",
      "AEDCFGBH 116\n",
      "AFCEDBGH 135\n",
      "ACGFEBDH 162\n",
      "ACGEFDBH 117\n",
      "ACEDFBGH 127\n",
      "AGCFEBDH 141\n",
      "AGDBFECH 110\n",
      "ADGEFBCH 112\n",
      "AFEBCGDH 89\n",
      "ACEGDFBH 99\n",
      "ABGEFCDH 105\n",
      "AEGCDBFH 65\n",
      "ACBDFEGH 163\n",
      "AEDGBFCH 100\n",
      "AFBCEGDH 89\n",
      "AGDCFEBH 105\n",
      "AGEDFCBH 146\n",
      "AEFBDGCH 81\n",
      "ADECBFGH 163\n",
      "ABFECDGH 85\n",
      "ABFGDECH 133\n",
      "AGBECFDH 131\n",
      "ABDFCEGH 157\n",
      "AGFCDEBH 157\n",
      "ACFDBEGH 186\n",
      "ADCBGEFH 84\n",
      "ACGBFEDH 100\n",
      "ABCFGEDH 180\n",
      "AEBFDGCH 83\n",
      "AGDFECBH 97\n",
      "ABECGFDH 135\n",
      "ACEDBGFH 147\n",
      "ACBFDEGH 155\n",
      "AECBDGFH 118\n",
      "ACEDFGBH 139\n",
      "ADBFGCEH 146\n",
      "ADGECFBH 104\n",
      "AFEBCDGH 101\n",
      "AFEDGBCH 95\n",
      "ABDGFECH 141\n",
      "ACBEFGDH 160\n",
      "AFDBGCEH 97\n",
      "ABDEFGCH 151\n",
      "AFGECBDH 149\n",
      "AFGBDECH 139\n",
      "AFDECBGH 114\n",
      "AGCEFBDH 102\n",
      "AGEDFBCH 138\n",
      "ACBDGFEH 176\n",
      "ADGBCEFH 79\n",
      "ADFCBEGH 170\n",
      "ACEGFDBH 159\n",
      "ADEBFCGH 144\n",
      "AFCDEGBH 92\n",
      "ACEDGFBH 131\n",
      "ADCEFGBH 100\n",
      "ADCFEBGH 127\n",
      "ABFDGCEH 91\n",
      "ABCEFDGH 116\n",
      "AECFBGDH 82\n",
      "ADGCBFEH 102\n",
      "ACDEFGBH 124\n",
      "ADEGFBCH 164\n",
      "AGCDBEFH 94\n",
      "ADBGEFCH 141\n",
      "ABGEFDCH 94\n",
      "ABDFCGEH 148\n",
      "ACBFEGDH 118\n",
      "AEDGBCFH 95\n",
      "AGFEDCBH 134\n",
      "ADEFCGBH 102\n",
      "AGFBECDH 131\n",
      "AFBGDCEH 64\n",
      "AGFEBDCH 157\n",
      "ABCFDEGH 165\n",
      "AEBDGFCH 162\n",
      "ADBCFGEH 201\n",
      "AFEGBDCH 92\n",
      "AEDFBCGH 108\n",
      "ABEDFCGH 149\n",
      "AEBGCFDH 102\n",
      "ACGEBFDH 122\n",
      "AGCBDEFH 115\n",
      "ABGFDCEH 126\n",
      "AFBDCEGH 103\n",
      "AFEGDCBH 71\n",
      "ABDCEFGH 145\n",
      "ADBFECGH 113\n",
      "AFGDECBH 118\n",
      "AEBDCGFH 107\n",
      "ABGFECDH 108\n",
      "AGEBCDFH 112\n",
      "AEDCGBFH 45\n",
      "ABFCEGDH 112\n",
      "AECFDBGH 127\n",
      "ACFGEDBH 188\n",
      "ACEBDGFH 149\n",
      "AFEGCDBH 73\n",
      "AFDCGBEH 84\n",
      "AEFDCGBH 45\n",
      "AEFCGBDH 100\n",
      "ABECDFGH 147\n",
      "AEBCDGFH 105\n",
      "ABGFEDCH 126\n",
      "ADCEBGFH 110\n",
      "AGDCEFBH 66\n",
      "ACBFEDGH 135\n",
      "ACGBDEFH 105\n",
      "AEDBGFCH 160\n",
      "ABFDGECH 101\n",
      "AGBCEDFH 105\n",
      "ADCBEFGH 158\n",
      "AFECGDBH 68\n",
      "ABEGCDFH 85\n",
      "AGCFDEBH 130\n",
      "AFCEGDBH 107\n",
      "ABCDGFEH 134\n",
      "AGDBECFH 128\n",
      "ACEFDBGH 135\n",
      "ACGDFEBH 99\n",
      "AGFBCDEH 155\n",
      "ABCDFEGH 121\n",
      "ACDEGFBH 136\n",
      "ABGDCFEH 103\n",
      "ADGEBFCH 135\n",
      "ADBGECFH 120\n",
      "AFCBDGEH 144\n",
      "ADFCBGEH 149\n",
      "ABFEDCGH 95\n",
      "AFDBGECH 107\n",
      "AFDGCEBH 70\n",
      "ACFGDBEH 199\n",
      "AEBFGCDH 102\n",
      "AECGDFBH 52\n",
      "AGFCBEDH 191\n",
      "AFDBEGCH 119\n",
      "AEBFGDCH 110\n",
      "ABEFCGDH 112\n",
      "ADCGBEFH 68\n",
      "AFECDGBH 43\n",
      "AEGCDFBH 57\n",
      "AEDBFGCH 133\n",
      "ABDEFCGH 147\n",
      "ABDCFEGH 142\n",
      "AFBCDEGH 111\n",
      "AFGBEDCH 126\n",
      "ABDCGFEH 136\n",
      "AFGCBDEH 157\n",
      "ABFCDEGH 134\n",
      "ABFEGCDH 78\n",
      "ADGEBCFH 130\n",
      "ACEGDBFH 107\n",
      "ABCGEFDH 109\n",
      "AEBDFGCH 143\n",
      "AFGDCBEH 134\n",
      "AGEFCDBH 123\n",
      "ACEBGFDH 152\n",
      "AGDFCBEH 157\n",
      "AGBDCEFH 82\n",
      "ACBFGEDH 170\n",
      "AGEFCBDH 157\n",
      "ADGFCBEH 183\n",
      "AEFBCDGH 83\n",
      "ABDCGEFH 83\n",
      "ABGECDFH 73\n",
      "AFBGCDEH 74\n",
      "ADFGECBH 143\n",
      "AEBCFDGH 137\n",
      "AECFGDBH 131\n",
      "ABEGFCDH 159\n",
      "AFCEDGBH 87\n",
      "AFDEBGCH 99\n",
      "ADGBECFH 102\n",
      "ACEFGBDH 150\n",
      "ABCDFGEH 154\n",
      "AGFBEDCH 149\n",
      "AFBECDGH 85\n",
      "ADEFCBGH 148\n",
      "ABFGCDEH 128\n",
      "AGFEBCDH 147\n",
      "ADBCEGFH 151\n",
      "ADCFEGBH 97\n",
      "AEBDCFGH 166\n",
      "ADFBCEGH 131\n",
      "ADEGCBFH 101\n",
      "ACDFBEGH 134\n",
      "ACBEFDGH 145\n",
      "ACGFEDBH 149\n",
      "ADBCGFEH 162\n",
      "AGFDECBH 149\n",
      "ADFBCGEH 122\n",
      "AGCDEFBH 76\n",
      "ACDEBGFH 134\n",
      "AGCBEFDH 120\n",
      "ADFBECGH 115\n",
      "AGFDCEBH 128\n",
      "ACFGEBDH 201\n",
      "AEFBDCGH 85\n",
      "ABGCFDEH 128\n",
      "AGCBFEDH 110\n",
      "AGBCFDEH 155\n",
      "AECBDFGH 158\n",
      "AECGDBFH 60\n",
      "AEFCDGBH 64\n",
      "ACFBDEGH 176\n",
      "AGBEDFCH 149\n",
      "AEGBFCDH 87\n",
      "AEGFBDCH 128\n",
      "AGDEFBCH 118\n",
      "ACFGDEBH 170\n",
      "AEGCFBDH 112\n",
      "ABDECGFH 130\n",
      "ADEFGCBH 133\n",
      "AECDFBGH 75\n",
      "AFDBCGEH 125\n",
      "ABGECFDH 120\n",
      "AFGDBECH 141\n",
      "AFGECDBH 115\n",
      "ADCEFBGH 88\n",
      "ACBDGEFH 123\n",
      "AGEFDCBH 102\n",
      "AGFDBCEH 178\n",
      "AFBECGDH 73\n",
      "AFEBDCGH 103\n",
      "ABFGDCEH 118\n",
      "AFGDBCEH 147\n",
      "ABCDEGFH 133\n",
      "AFGCEBDH 133\n",
      "ABECGDFH 80\n",
      "AFDECGBH 68\n",
      "AFEDGCBH 76\n",
      "AGECFDBH 138\n",
      "AFEBDGCH 99\n",
      "ADEBGFCH 175\n",
      "ACGEDBFH 117\n",
      "ADEBGCFH 112\n"
     ]
    }
   ],
   "source": [
    "populationRepr(paths_v1)"
   ]
  },
  {
   "cell_type": "markdown",
   "metadata": {},
   "source": [
    "Выберем 6 самых удачных варианта"
   ]
  },
  {
   "cell_type": "code",
   "execution_count": 9,
   "metadata": {},
   "outputs": [
    {
     "name": "stdout",
     "output_type": "stream",
     "text": [
      "AFECDGBH 43\n",
      "AEDCGBFH 45\n",
      "AEFDCGBH 45\n",
      "AECGDFBH 52\n",
      "AEGCDFBH 57\n",
      "AECGDBFH 60\n"
     ]
    }
   ],
   "source": [
    "best6_v1 = best6Repr(paths_v1, costs_v1)"
   ]
  },
  {
   "cell_type": "markdown",
   "metadata": {},
   "source": [
    "Как видно самые удачные варианты это варианты, в которых первый ход производится в точку E. приеним это знание и будем строить модели, в которых первый ход идёт в эти точки. тогда длина изменяющейся части уменьшается до 5 символов, а число комбинаций падает до 120. Рассмотрим 40 вариантов."
   ]
  },
  {
   "cell_type": "code",
   "execution_count": 10,
   "metadata": {},
   "outputs": [
    {
     "name": "stdout",
     "output_type": "stream",
     "text": [
      "AEGBFDCH 76\n",
      "AEDCFGBH 116\n",
      "AEBCFGDH 152\n",
      "AEFBCGDH 71\n",
      "AEDFGBCH 139\n",
      "AECGDFBH 52\n",
      "AECDBGFH 95\n",
      "AEGCBFDH 91\n",
      "AEBGDFCH 110\n",
      "AEGCDBFH 65\n",
      "AEBGDCFH 74\n",
      "AEFCBDGH 135\n",
      "AECFGBDH 142\n",
      "AECFBDGH 119\n",
      "AECBDFGH 158\n",
      "AEDBFGCH 133\n",
      "AEGCBDFH 96\n",
      "AEBCDGFH 105\n",
      "AEDGBCFH 95\n",
      "AEBFCGDH 94\n",
      "AEFGCBDH 131\n",
      "AEDBGFCH 160\n",
      "AECGBFDH 63\n",
      "AEFBCDGH 83\n",
      "AEGCFBDH 112\n",
      "AEFCGDBH 89\n",
      "AEBFCDGH 106\n",
      "AEGFBDCH 128\n",
      "AEDFGCBH 120\n",
      "AEGDBFCH 120\n",
      "AEDBFCGH 129\n",
      "AEFDBCGH 116\n",
      "AEBGFCDH 129\n",
      "AEFDCBGH 91\n",
      "AEFBGCDH 48\n",
      "AEBGCFDH 102\n",
      "AEDFBGCH 81\n",
      "AEBGCDFH 55\n",
      "AEFCGBDH 100\n",
      "AEDCGFBH 89\n"
     ]
    }
   ],
   "source": [
    "paths_v2, costs_v2 = populationGen(40, \"AE\")\n",
    "populationRepr(paths_v2)"
   ]
  },
  {
   "cell_type": "markdown",
   "metadata": {},
   "source": [
    "Из 2 поколения выберем наилучшие 6 вариантов:"
   ]
  },
  {
   "cell_type": "code",
   "execution_count": 11,
   "metadata": {},
   "outputs": [
    {
     "name": "stdout",
     "output_type": "stream",
     "text": [
      "AEFBGCDH 48\n",
      "AECGDFBH 52\n",
      "AEBGCDFH 55\n",
      "AECGBFDH 63\n",
      "AEGCDBFH 65\n",
      "AEFBCGDH 71\n"
     ]
    }
   ],
   "source": [
    "best6_v2 = best6Repr(paths_v2, costs_v2)"
   ]
  },
  {
   "cell_type": "markdown",
   "metadata": {},
   "source": [
    "Как видно, 3 точкой чаще становится точка F или C, значит нужно ставить их гна место 3 мункта. Тогда число перебираемых вариантов получается равно !4 * 2 = 48. Рассмотрим все 48 оставшихся варианта и выберем лучший."
   ]
  },
  {
   "cell_type": "code",
   "execution_count": 18,
   "metadata": {},
   "outputs": [
    {
     "name": "stdout",
     "output_type": "stream",
     "text": [
      "AECBDFGH 158\n",
      "AECBDGFH 118\n",
      "AECBFDGH 98\n",
      "AECBFGDH 113\n",
      "AECBGDFH 66\n",
      "AECBGFDH 121\n",
      "AECDBFGH 127\n",
      "AECDBGFH 95\n",
      "AECDFBGH 75\n",
      "AECDFGBH 87\n",
      "AECDGBFH 35\n",
      "AECDGFBH 79\n",
      "AECFBDGH 119\n",
      "AECFBGDH 82\n",
      "AECFDBGH 127\n",
      "AECFDGBH 79\n",
      "AECFGBDH 142\n",
      "AECFGDBH 131\n",
      "AECGBDFH 68\n",
      "AECGBFDH 63\n",
      "AECGDBFH 60\n",
      "AECGDFBH 52\n",
      "AECGFBDH 115\n",
      "AECGFDBH 112\n",
      "AEFBDCGH 85\n",
      "AEFBDGCH 81\n",
      "AEFBCDGH 83\n",
      "AEFBCGDH 71\n",
      "AEFBGDCH 56\n",
      "AEFBGCDH 48\n",
      "AEFDBCGH 116\n",
      "AEFDBGCH 89\n",
      "AEFDCBGH 91\n",
      "AEFDCGBH 45\n",
      "AEFDGBCH 87\n",
      "AEFDGCBH 68\n",
      "AEFCBDGH 135\n",
      "AEFCBGDH 98\n",
      "AEFCDBGH 112\n",
      "AEFCDGBH 64\n",
      "AEFCGBDH 100\n",
      "AEFCGDBH 89\n",
      "AEFGBDCH 116\n",
      "AEFGBCDH 106\n",
      "AEFGDBCH 139\n",
      "AEFGDCBH 95\n",
      "AEFGCBDH 131\n",
      "AEFGCDBH 97\n"
     ]
    }
   ],
   "source": [
    "paths_v3 = []\n",
    "\n",
    "perm_AEC = permutations(['B', 'D', 'F', 'G'])\n",
    "for comb in perm_AEC:\n",
    "    paths_v3.append(\"AEC\" + comb[0] + comb[1] + comb[2] + comb[3] + 'H') \n",
    "\n",
    "perm_AEF = permutations(['B', 'D', 'C', 'G'])\n",
    "for comb in perm_AEF:\n",
    "    paths_v3.append(\"AEF\" + comb[0] + comb[1] + comb[2] + comb[3] + 'H')\n",
    "    \n",
    "populationRepr(paths_v3)"
   ]
  },
  {
   "cell_type": "markdown",
   "metadata": {},
   "source": [
    "Найдём 6 самых малых полученых результатов:"
   ]
  },
  {
   "cell_type": "code",
   "execution_count": 20,
   "metadata": {},
   "outputs": [
    {
     "name": "stdout",
     "output_type": "stream",
     "text": [
      "AECDGBFH 35\n",
      "AEFDCGBH 45\n",
      "AEFBGCDH 48\n",
      "AECGDFBH 52\n",
      "AEFBGDCH 56\n",
      "AECGDBFH 60\n"
     ]
    }
   ],
   "source": [
    "costs_v3 = []\n",
    "for path in paths_v3:\n",
    "    costs_v3.append(costCount(path))\n",
    "\n",
    "best6_v3 = best6Repr(paths_v3, costs_v3)"
   ]
  },
  {
   "cell_type": "markdown",
   "metadata": {},
   "source": [
    "Самый минимальный это путь AECDGBFH со стоимостью 35. Для оценки качества алгоритма сделаем перебор всех возможных комбинаций пуктей и выберем лучший"
   ]
  },
  {
   "cell_type": "code",
   "execution_count": 25,
   "metadata": {},
   "outputs": [
    {
     "name": "stdout",
     "output_type": "stream",
     "text": [
      "AECDGBFH 35\n"
     ]
    }
   ],
   "source": [
    "paths_all = []\n",
    "perm = permutations(['B', 'C', 'D', 'E', 'F', 'G'])\n",
    "for comb in perm:\n",
    "    paths_all.append(\"A\" + comb[0] + comb[1] + comb[2] + comb[3] + comb[4] + comb[5] + 'H') \n",
    "\n",
    "costs_all = []\n",
    "for path in paths_all:\n",
    "    costs_all.append(costCount(path))\n",
    "\n",
    "print(paths_all[costs_all.index(min(costs_all))], min(costs_all))"
   ]
  },
  {
   "cell_type": "markdown",
   "metadata": {},
   "source": [
    "Как видно, результат перебора прямого совпал с результатом работы генетического алгоритма, но, в случае генетического алгоритма потребовалось перебрать только 240 + 40 + 48 = 328 вариантов,а не все 720, что в двое меньше. "
   ]
  }
 ],
 "metadata": {
  "kernelspec": {
   "display_name": "Python 3",
   "language": "python",
   "name": "python3"
  },
  "language_info": {
   "codemirror_mode": {
    "name": "ipython",
    "version": 3
   },
   "file_extension": ".py",
   "mimetype": "text/x-python",
   "name": "python",
   "nbconvert_exporter": "python",
   "pygments_lexer": "ipython3",
   "version": "3.7.3"
  }
 },
 "nbformat": 4,
 "nbformat_minor": 2
}
